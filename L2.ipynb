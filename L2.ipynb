{
 "cells": [
  {
   "cell_type": "code",
   "execution_count": 1,
   "id": "3e01b771",
   "metadata": {},
   "outputs": [],
   "source": [
    "import warnings\n",
    "warnings.filterwarnings(\"ignore\")\n",
    "import pandas as pd \n",
    "from sklearn.model_selection import train_test_split\n",
    "import numpy as np\n",
    "from sklearn.metrics import accuracy_score, recall_score, precision_score, roc_auc_score, confusion_matrix\n",
    "import pickle \n",
    "from scipy.stats import mode\n",
    "from collections import Counter\n",
    "from sklearn.tree import DecisionTreeClassifier\n",
    "from sklearn.ensemble import RandomForestClassifier\n",
    "from sklearn.ensemble import GradientBoostingClassifier\n"
   ]
  },
  {
   "cell_type": "code",
   "execution_count": 2,
   "id": "9ff479c8",
   "metadata": {},
   "outputs": [],
   "source": [
    "dataset = pd.read_csv('remastered_dataset.csv')"
   ]
  },
  {
   "cell_type": "code",
   "execution_count": 3,
   "id": "d0ccd4bd",
   "metadata": {},
   "outputs": [],
   "source": [
    "X_train, X_test, y_train, y_test = train_test_split(np.array(dataset.drop('TenYearCHD',axis=1)), np.array(dataset['TenYearCHD']), test_size=0.2, stratify=np.array(dataset['TenYearCHD']))"
   ]
  },
  {
   "cell_type": "markdown",
   "id": "80587c65",
   "metadata": {},
   "source": [
    "# Мягкое и жесткое голосование"
   ]
  },
  {
   "cell_type": "markdown",
   "id": "6ff1e0fb",
   "metadata": {},
   "source": [
    "#### Мягкое голосование \n"
   ]
  },
  {
   "cell_type": "code",
   "execution_count": 4,
   "id": "51a6e46b",
   "metadata": {},
   "outputs": [],
   "source": [
    "models = []\n",
    "names = ['sklearn_K_Nearest_Neighbors_Classifier_best_model.pkl',\n",
    "         'sklearn_LogisticRegression_best_model.pkl',\n",
    "         'sklearn_NaiveBayes_best_model.pkl',\n",
    "         'sklearn_SVC_best_model.pkl']\n",
    "    \n",
    "for i in names:\n",
    "    \n",
    "    models.append(pickle.load(open(i, 'rb')) )\n",
    "    \n",
    "predicts = []\n",
    "\n",
    "for i in models:\n",
    "    \n",
    "    predicts.append(i.predict_proba(X_train)[:,1])\n",
    "    \n",
    "    \n",
    "result = np.zeros(predicts[0].shape)\n",
    "\n",
    "for i in range(len(predicts)):\n",
    "    result = result + predicts[i]\n",
    "\n",
    "        \n",
    "result = result / len(predicts)\n",
    "    \n",
    "    \n",
    "for i in range(len(result)):\n",
    "    \n",
    "    if result[i]>=0.5:\n",
    "        \n",
    "        result[i] = 1\n",
    "    else:\n",
    "        \n",
    "        result[i] = 0\n",
    "    \n"
   ]
  },
  {
   "cell_type": "code",
   "execution_count": 5,
   "id": "175bdd93",
   "metadata": {},
   "outputs": [
    {
     "name": "stdout",
     "output_type": "stream",
     "text": [
      "accuracy_score на обучающей выборки =  0.8569321533923304\n",
      "recall_score на обучающей выборки =  0.09902912621359224\n",
      "precision_score на обучающей выборки =  0.7083333333333334\n",
      "roc_auc_score на обучающей выборки =  0.5458623891937527\n",
      "confusion_matrix на обучающей выборки = \n",
      " [[2854   21]\n",
      " [ 464   51]]\n"
     ]
    }
   ],
   "source": [
    "print('accuracy_score на обучающей выборки = ',accuracy_score(y_train,result))\n",
    "print('recall_score на обучающей выборки = ',recall_score(y_train,result))\n",
    "print('precision_score на обучающей выборки = ',precision_score(y_train,result))\n",
    "print('roc_auc_score на обучающей выборки = ',roc_auc_score(y_train,result))\n",
    "print('confusion_matrix на обучающей выборки = \\n',confusion_matrix(y_train,result))"
   ]
  },
  {
   "cell_type": "code",
   "execution_count": 6,
   "id": "8c1dbde4",
   "metadata": {},
   "outputs": [],
   "source": [
    "models = []\n",
    "names = ['sklearn_K_Nearest_Neighbors_Classifier_best_model.pkl',\n",
    "         'sklearn_LogisticRegression_best_model.pkl',\n",
    "         'sklearn_NaiveBayes_best_model.pkl',\n",
    "         'sklearn_SVC_best_model.pkl']\n",
    "    \n",
    "for i in names:\n",
    "    \n",
    "    models.append(pickle.load(open(i, 'rb')) )\n",
    "    \n",
    "predicts = []\n",
    "\n",
    "for i in models:\n",
    "    \n",
    "    predicts.append(i.predict_proba(X_test)[:,1])\n",
    "    \n",
    "    \n",
    "result = np.zeros(predicts[0].shape)\n",
    "\n",
    "for i in range(len(predicts)):\n",
    "    result = result + predicts[i]\n",
    "\n",
    "        \n",
    "result = result / len(predicts)\n",
    "    \n",
    "    \n",
    "for i in range(len(result)):\n",
    "    \n",
    "    if result[i]>=0.5:\n",
    "        \n",
    "        result[i] = 1\n",
    "    else:\n",
    "        \n",
    "        result[i] = 0\n",
    "    \n"
   ]
  },
  {
   "cell_type": "code",
   "execution_count": 7,
   "id": "76daf2ef",
   "metadata": {},
   "outputs": [
    {
     "name": "stdout",
     "output_type": "stream",
     "text": [
      "accuracy_score на тестовой выборки =  0.8525943396226415\n",
      "recall_score на тестовой выборки =  0.06976744186046512\n",
      "precision_score на тестовой выборки =  0.6428571428571429\n",
      "roc_auc_score на тестовой выборки =  0.5314066694698709\n",
      "confusion_matrix на тестовой выборки = \n",
      " [[714   5]\n",
      " [120   9]]\n"
     ]
    }
   ],
   "source": [
    "print('accuracy_score на тестовой выборки = ',accuracy_score(y_test,result))\n",
    "print('recall_score на тестовой выборки = ',recall_score(y_test,result))\n",
    "print('precision_score на тестовой выборки = ',precision_score(y_test,result))\n",
    "print('roc_auc_score на тестовой выборки = ',roc_auc_score(y_test,result))\n",
    "print('confusion_matrix на тестовой выборки = \\n',confusion_matrix(y_test,result))"
   ]
  },
  {
   "cell_type": "markdown",
   "id": "03c8551d",
   "metadata": {},
   "source": [
    "#### Жесткое голосование \n"
   ]
  },
  {
   "cell_type": "code",
   "execution_count": 8,
   "id": "0de9e4e6",
   "metadata": {},
   "outputs": [],
   "source": [
    "models = []\n",
    "names = ['sklearn_K_Nearest_Neighbors_Classifier_best_model.pkl',\n",
    "         'sklearn_LogisticRegression_best_model.pkl',\n",
    "         'sklearn_NaiveBayes_best_model.pkl',\n",
    "         'sklearn_SVC_best_model.pkl']\n",
    "    \n",
    "for i in names:\n",
    "    \n",
    "    models.append(pickle.load(open(i, 'rb')) )\n",
    "    \n",
    "predicts = []\n",
    "\n",
    "for i in models:\n",
    "    \n",
    "    predicts.append(i.predict(X_train))\n",
    "\n",
    "    \n",
    "predicts = [int(i) for i in mode(np.array(predicts).T,axis=1)[0]]"
   ]
  },
  {
   "cell_type": "code",
   "execution_count": 9,
   "id": "02342660",
   "metadata": {},
   "outputs": [
    {
     "name": "stdout",
     "output_type": "stream",
     "text": [
      "accuracy_score на обучающей выборки =  0.8563421828908555\n",
      "recall_score на обучающей выборки =  0.06990291262135923\n",
      "precision_score на обучающей выборки =  0.8181818181818182\n",
      "roc_auc_score на обучающей выборки =  0.5335601519628536\n",
      "confusion_matrix на обучающей выборки = \n",
      " [[2867    8]\n",
      " [ 479   36]]\n"
     ]
    }
   ],
   "source": [
    "print('accuracy_score на обучающей выборки = ',accuracy_score(y_train,predicts))\n",
    "print('recall_score на обучающей выборки = ',recall_score(y_train,predicts))\n",
    "print('precision_score на обучающей выборки = ',precision_score(y_train,predicts))\n",
    "print('roc_auc_score на обучающей выборки = ',roc_auc_score(y_train,predicts))\n",
    "print('confusion_matrix на обучающей выборки = \\n',confusion_matrix(y_train,predicts))"
   ]
  },
  {
   "cell_type": "code",
   "execution_count": 10,
   "id": "f6715b11",
   "metadata": {},
   "outputs": [],
   "source": [
    "models = []\n",
    "names = ['sklearn_K_Nearest_Neighbors_Classifier_best_model.pkl',\n",
    "         'sklearn_LogisticRegression_best_model.pkl',\n",
    "         'sklearn_NaiveBayes_best_model.pkl',\n",
    "         'sklearn_SVC_best_model.pkl']\n",
    "    \n",
    "for i in names:\n",
    "    \n",
    "    models.append(pickle.load(open(i, 'rb')) )\n",
    "    \n",
    "predicts = []\n",
    "\n",
    "for i in models:\n",
    "    \n",
    "    predicts.append(i.predict(X_test))\n",
    "\n",
    "    \n",
    "predicts = [int(i) for i in mode(np.array(predicts).T,axis=1)[0]]"
   ]
  },
  {
   "cell_type": "code",
   "execution_count": 11,
   "id": "6497d8e4",
   "metadata": {},
   "outputs": [
    {
     "name": "stdout",
     "output_type": "stream",
     "text": [
      "accuracy_score на тестовой выборки =  0.847877358490566\n",
      "recall_score на тестовой выборки =  0.046511627906976744\n",
      "precision_score на тестовой выборки =  0.5\n",
      "roc_auc_score на тестовой выборки =  0.5190833522010545\n",
      "confusion_matrix на тестовой выборки = \n",
      " [[713   6]\n",
      " [123   6]]\n"
     ]
    }
   ],
   "source": [
    "print('accuracy_score на тестовой выборки = ',accuracy_score(y_test,predicts))\n",
    "print('recall_score на тестовой выборки = ',recall_score(y_test,predicts))\n",
    "print('precision_score на тестовой выборки = ',precision_score(y_test,predicts))\n",
    "print('roc_auc_score на тестовой выборки = ',roc_auc_score(y_test,predicts))\n",
    "print('confusion_matrix на тестовой выборки = \\n',confusion_matrix(y_test,predicts))"
   ]
  },
  {
   "cell_type": "markdown",
   "id": "ab72173d",
   "metadata": {},
   "source": [
    "#### Выводы \n",
    "- Мягкое голосование показало себя лучше "
   ]
  },
  {
   "cell_type": "markdown",
   "id": "62ac1878",
   "metadata": {},
   "source": [
    "# Дерево решений"
   ]
  },
  {
   "cell_type": "code",
   "execution_count": 12,
   "id": "0cfe9b72",
   "metadata": {},
   "outputs": [],
   "source": [
    "class Node:\n",
    "    \n",
    "    def __init__(self, feature=None, threshold=None, data_left=None, data_right=None, gain=None, value=None):\n",
    "        self.feature = feature\n",
    "        self.threshold = threshold\n",
    "        self.data_left = data_left\n",
    "        self.data_right = data_right\n",
    "        self.gain = gain\n",
    "        self.value = value\n",
    "\n",
    "\n",
    "class Custom_DecisionTree:\n",
    "\n",
    "    def __init__(self, min_samples_split=2, max_depth=5):\n",
    "        self.min_samples_split = min_samples_split\n",
    "        self.max_depth = max_depth\n",
    "        self.root = None\n",
    "        \n",
    "    @staticmethod\n",
    "    def _entropy(s):\n",
    "        \n",
    "        counts = np.bincount(np.array(s, dtype=np.int64))\n",
    "        percentages = counts / len(s)\n",
    "\n",
    "        entropy = 0\n",
    "        for pct in percentages:\n",
    "            if pct > 0:\n",
    "                entropy += pct * np.log2(pct)\n",
    "        return -entropy\n",
    "    \n",
    "    def _information_gain(self, parent, left_child, right_child):\n",
    "        \n",
    "        num_left = len(left_child) / len(parent)\n",
    "        num_right = len(right_child) / len(parent)\n",
    "        \n",
    "        return self._entropy(parent) - (num_left * self._entropy(left_child) + num_right * self._entropy(right_child))\n",
    "    \n",
    "    def _best_split(self, X, y):\n",
    "        \n",
    "        best_split = {}\n",
    "        best_info_gain = -1\n",
    "        n_rows, n_cols = X.shape\n",
    "        \n",
    "        for f_idx in range(n_cols):\n",
    "            X_curr = X[:, f_idx]\n",
    "            for threshold in np.unique(X_curr):\n",
    "                \n",
    "                df = np.concatenate((X, y.reshape(1, -1).T), axis=1)\n",
    "                df_left = np.array([row for row in df if row[f_idx] <= threshold])\n",
    "                df_right = np.array([row for row in df if row[f_idx] > threshold])\n",
    "\n",
    "                if len(df_left) > 0 and len(df_right) > 0:\n",
    "                    y = df[:, -1]\n",
    "                    y_left = df_left[:, -1]\n",
    "                    y_right = df_right[:, -1]\n",
    "\n",
    "                   \n",
    "                    gain = self._information_gain(y, y_left, y_right)\n",
    "                    if gain > best_info_gain:\n",
    "                        best_split = {\n",
    "                            'feature_index': f_idx,\n",
    "                            'threshold': threshold,\n",
    "                            'df_left': df_left,\n",
    "                            'df_right': df_right,\n",
    "                            'gain': gain\n",
    "                        }\n",
    "                        best_info_gain = gain\n",
    "        return best_split\n",
    "    \n",
    "    def _build(self, X, y, depth=0):\n",
    "        \n",
    "        n_rows, n_cols = X.shape\n",
    "        \n",
    "        if n_rows >= self.min_samples_split and depth <= self.max_depth:\n",
    "            best = self._best_split(X, y)\n",
    "            if best['gain'] > 0:\n",
    "                \n",
    "                left = self._build(\n",
    "                    X=best['df_left'][:, :-1], \n",
    "                    y=best['df_left'][:, -1], \n",
    "                    depth=depth + 1\n",
    "                )\n",
    "                right = self._build(\n",
    "                    X=best['df_right'][:, :-1], \n",
    "                    y=best['df_right'][:, -1], \n",
    "                    depth=depth + 1\n",
    "                )\n",
    "                return Node(\n",
    "                    feature=best['feature_index'], \n",
    "                    threshold=best['threshold'], \n",
    "                    data_left=left, \n",
    "                    data_right=right, \n",
    "                    gain=best['gain']\n",
    "                )\n",
    "        \n",
    "        return Node(\n",
    "            value=Counter(y).most_common(1)[0][0]\n",
    "        )\n",
    "    \n",
    "    def fit(self, X, y):\n",
    "        \n",
    "        \n",
    "        self.root = self._build(X, y)\n",
    "        \n",
    "    def _predict(self, x, tree):\n",
    "       \n",
    "        \n",
    "        if tree.value != None:\n",
    "            return tree.value\n",
    "        feature_value = x[tree.feature]\n",
    "        \n",
    "        \n",
    "        if feature_value <= tree.threshold:\n",
    "            return self._predict(x=x, tree=tree.data_left)\n",
    "        \n",
    "        \n",
    "        if feature_value > tree.threshold:\n",
    "            return self._predict(x=x, tree=tree.data_right)\n",
    "        \n",
    "    def predict(self, X):\n",
    "        \n",
    "        \n",
    "        return [self._predict(x, self.root) for x in X]"
   ]
  },
  {
   "cell_type": "code",
   "execution_count": 13,
   "id": "c4055889",
   "metadata": {},
   "outputs": [
    {
     "name": "stdout",
     "output_type": "stream",
     "text": [
      "accuracy_score на обучающей выборки =  0.868141592920354\n",
      "recall_score на обучающей выборки =  0.1650485436893204\n",
      "precision_score на обучающей выборки =  0.8333333333333334\n",
      "roc_auc_score на обучающей выборки =  0.5795677501055297\n",
      "confusion_matrix на обучающей выборки = \n",
      " [[2858   17]\n",
      " [ 430   85]]\n",
      "accuracy_score на тестовой выборки =  0.8254716981132075\n",
      "recall_score на тестовой выборки =  0.023255813953488372\n",
      "precision_score на тестовой выборки =  0.12\n",
      "roc_auc_score на тестовой выборки =  0.4963288805511531\n",
      "confusion_matrix на тестовой выборки = \n",
      " [[697  22]\n",
      " [126   3]]\n"
     ]
    }
   ],
   "source": [
    "model = Custom_DecisionTree()\n",
    "model.fit(X_train,y_train)\n",
    "\n",
    "\n",
    "\n",
    "print('accuracy_score на обучающей выборки = ',accuracy_score(y_train,model.predict(X_train)))\n",
    "print('recall_score на обучающей выборки = ',recall_score(y_train,model.predict(X_train)))\n",
    "print('precision_score на обучающей выборки = ',precision_score(y_train,model.predict(X_train)))\n",
    "print('roc_auc_score на обучающей выборки = ',roc_auc_score(y_train,model.predict(X_train)))\n",
    "print('confusion_matrix на обучающей выборки = \\n',confusion_matrix(y_train,model.predict(X_train)))\n",
    "\n",
    "print('accuracy_score на тестовой выборки = ',accuracy_score(y_test,model.predict(X_test)))\n",
    "print('recall_score на тестовой выборки = ',recall_score(y_test,model.predict(X_test)))\n",
    "print('precision_score на тестовой выборки = ',precision_score(y_test,model.predict(X_test)))\n",
    "print('roc_auc_score на тестовой выборки = ',roc_auc_score(y_test,model.predict(X_test)))\n",
    "print('confusion_matrix на тестовой выборки = \\n',confusion_matrix(y_test,model.predict(X_test)))"
   ]
  },
  {
   "cell_type": "code",
   "execution_count": 14,
   "id": "b68534a6",
   "metadata": {},
   "outputs": [
    {
     "name": "stdout",
     "output_type": "stream",
     "text": [
      "accuracy_score на обучающей выборки =  1.0\n",
      "recall_score на обучающей выборки =  1.0\n",
      "precision_score на обучающей выборки =  1.0\n",
      "roc_auc_score на обучающей выборки =  1.0\n",
      "confusion_matrix на обучающей выборки = \n",
      " [[2875    0]\n",
      " [   0  515]]\n",
      "accuracy_score на тестовой выборки =  0.7747641509433962\n",
      "recall_score на тестовой выборки =  0.24806201550387597\n",
      "precision_score на тестовой выборки =  0.25396825396825395\n",
      "roc_auc_score на тестовой выборки =  0.5586624402971396\n",
      "confusion_matrix на тестовой выборки = \n",
      " [[625  94]\n",
      " [ 97  32]]\n"
     ]
    }
   ],
   "source": [
    "model = DecisionTreeClassifier()\n",
    "model.fit(X_train,y_train)\n",
    "\n",
    "\n",
    "\n",
    "print('accuracy_score на обучающей выборки = ',accuracy_score(y_train,model.predict(X_train)))\n",
    "print('recall_score на обучающей выборки = ',recall_score(y_train,model.predict(X_train)))\n",
    "print('precision_score на обучающей выборки = ',precision_score(y_train,model.predict(X_train)))\n",
    "print('roc_auc_score на обучающей выборки = ',roc_auc_score(y_train,model.predict(X_train)))\n",
    "print('confusion_matrix на обучающей выборки = \\n',confusion_matrix(y_train,model.predict(X_train)))\n",
    "\n",
    "print('accuracy_score на тестовой выборки = ',accuracy_score(y_test,model.predict(X_test)))\n",
    "print('recall_score на тестовой выборки = ',recall_score(y_test,model.predict(X_test)))\n",
    "print('precision_score на тестовой выборки = ',precision_score(y_test,model.predict(X_test)))\n",
    "print('roc_auc_score на тестовой выборки = ',roc_auc_score(y_test,model.predict(X_test)))\n",
    "print('confusion_matrix на тестовой выборки = \\n',confusion_matrix(y_test,model.predict(X_test)))"
   ]
  },
  {
   "cell_type": "markdown",
   "id": "4b1ca49f",
   "metadata": {},
   "source": [
    "#### Выводы \n",
    "- Моя модель показала себя хуже на обучающей выборке, но лучше на тестовой \n",
    "- Обе модели могут хорошо применяться в задачах бинарной классификации, где слабо представлен один из классов"
   ]
  },
  {
   "cell_type": "markdown",
   "id": "69946ba8",
   "metadata": {},
   "source": [
    "# Случайный лес"
   ]
  },
  {
   "cell_type": "code",
   "execution_count": 24,
   "id": "6fd202e9",
   "metadata": {},
   "outputs": [],
   "source": [
    "class Custom_RandomForest:\n",
    "    \n",
    "    def __init__(self, num_trees=15, min_samples_split=2, max_depth=2):\n",
    "        self.num_trees = num_trees\n",
    "        self.min_samples_split = min_samples_split\n",
    "        self.max_depth = max_depth\n",
    "        \n",
    "        self.decision_trees = []\n",
    "        \n",
    "    @staticmethod\n",
    "    def _sample(X, y):\n",
    "        \n",
    "        n_rows, n_cols = X.shape\n",
    "        \n",
    "        samples = np.random.choice(a=n_rows, size=n_rows, replace=True)\n",
    "        return X[samples], y[samples]\n",
    "        \n",
    "    def fit(self, X, y):\n",
    "        \n",
    "        \n",
    "        if len(self.decision_trees) > 0:\n",
    "            self.decision_trees = []\n",
    "            \n",
    "        \n",
    "        num_built = 0\n",
    "        while num_built < self.num_trees:\n",
    "            try:\n",
    "                clf = Custom_DecisionTree(\n",
    "                    min_samples_split=self.min_samples_split,\n",
    "                    max_depth=self.max_depth\n",
    "                )\n",
    "                \n",
    "                _X, _y = self._sample(X, y)\n",
    "                \n",
    "                clf.fit(_X, _y)\n",
    "                \n",
    "                self.decision_trees.append(clf)\n",
    "                num_built += 1\n",
    "            except Exception as e:\n",
    "                continue\n",
    "    \n",
    "    def predict(self, X):\n",
    "        \n",
    "        \n",
    "        y = []\n",
    "        for tree in self.decision_trees:\n",
    "            y.append(tree.predict(X))\n",
    "        \n",
    "       \n",
    "        y = np.swapaxes(a=y, axis1=0, axis2=1)\n",
    "        \n",
    "        \n",
    "        predictions = []\n",
    "        for preds in y:\n",
    "            counter = Counter(preds)\n",
    "            predictions.append(counter.most_common(1)[0][0])\n",
    "        return predictions"
   ]
  },
  {
   "cell_type": "code",
   "execution_count": 26,
   "id": "d3319fd1",
   "metadata": {},
   "outputs": [
    {
     "name": "stdout",
     "output_type": "stream",
     "text": [
      "accuracy_score на обучающей выборки =  0.8489675516224189\n",
      "recall_score на обучающей выборки =  0.005825242718446602\n",
      "precision_score на обучающей выборки =  1.0\n",
      "roc_auc_score на обучающей выборки =  0.5029126213592233\n",
      "confusion_matrix на обучающей выборки = \n",
      " [[2875    0]\n",
      " [ 512    3]]\n",
      "accuracy_score на тестовой выборки =  0.847877358490566\n",
      "recall_score на тестовой выборки =  0.0\n",
      "precision_score на тестовой выборки =  0.0\n",
      "roc_auc_score на тестовой выборки =  0.5\n",
      "confusion_matrix на тестовой выборки = \n",
      " [[719   0]\n",
      " [129   0]]\n"
     ]
    }
   ],
   "source": [
    "model = Custom_RandomForest()\n",
    "model.fit(X_train,y_train)\n",
    "\n",
    "\n",
    "\n",
    "print('accuracy_score на обучающей выборки = ',accuracy_score(y_train,model.predict(X_train)))\n",
    "print('recall_score на обучающей выборки = ',recall_score(y_train,model.predict(X_train)))\n",
    "print('precision_score на обучающей выборки = ',precision_score(y_train,model.predict(X_train)))\n",
    "print('roc_auc_score на обучающей выборки = ',roc_auc_score(y_train,model.predict(X_train)))\n",
    "print('confusion_matrix на обучающей выборки = \\n',confusion_matrix(y_train,model.predict(X_train)))\n",
    "\n",
    "print('accuracy_score на тестовой выборки = ',accuracy_score(y_test,model.predict(X_test)))\n",
    "print('recall_score на тестовой выборки = ',recall_score(y_test,model.predict(X_test)))\n",
    "print('precision_score на тестовой выборки = ',precision_score(y_test,model.predict(X_test)))\n",
    "print('roc_auc_score на тестовой выборки = ',roc_auc_score(y_test,model.predict(X_test)))\n",
    "print('confusion_matrix на тестовой выборки = \\n',confusion_matrix(y_test,model.predict(X_test)))"
   ]
  },
  {
   "cell_type": "code",
   "execution_count": 27,
   "id": "97e59a75",
   "metadata": {},
   "outputs": [
    {
     "name": "stdout",
     "output_type": "stream",
     "text": [
      "accuracy_score на обучающей выборки =  1.0\n",
      "recall_score на обучающей выборки =  1.0\n",
      "precision_score на обучающей выборки =  1.0\n",
      "roc_auc_score на обучающей выборки =  1.0\n",
      "confusion_matrix на обучающей выборки = \n",
      " [[2875    0]\n",
      " [   0  515]]\n",
      "accuracy_score на тестовой выборки =  0.8443396226415094\n",
      "recall_score на тестовой выборки =  0.03875968992248062\n",
      "precision_score на тестовой выборки =  0.38461538461538464\n",
      "roc_auc_score на тестовой выборки =  0.5138165626246618\n",
      "confusion_matrix на тестовой выборки = \n",
      " [[711   8]\n",
      " [124   5]]\n"
     ]
    }
   ],
   "source": [
    "model = RandomForestClassifier()\n",
    "model.fit(X_train,y_train)\n",
    "\n",
    "\n",
    "\n",
    "print('accuracy_score на обучающей выборки = ',accuracy_score(y_train,model.predict(X_train)))\n",
    "print('recall_score на обучающей выборки = ',recall_score(y_train,model.predict(X_train)))\n",
    "print('precision_score на обучающей выборки = ',precision_score(y_train,model.predict(X_train)))\n",
    "print('roc_auc_score на обучающей выборки = ',roc_auc_score(y_train,model.predict(X_train)))\n",
    "print('confusion_matrix на обучающей выборки = \\n',confusion_matrix(y_train,model.predict(X_train)))\n",
    "\n",
    "print('accuracy_score на тестовой выборки = ',accuracy_score(y_test,model.predict(X_test)))\n",
    "print('recall_score на тестовой выборки = ',recall_score(y_test,model.predict(X_test)))\n",
    "print('precision_score на тестовой выборки = ',precision_score(y_test,model.predict(X_test)))\n",
    "print('roc_auc_score на тестовой выборки = ',roc_auc_score(y_test,model.predict(X_test)))\n",
    "print('confusion_matrix на тестовой выборки = \\n',confusion_matrix(y_test,model.predict(X_test)))"
   ]
  },
  {
   "cell_type": "markdown",
   "id": "40b262a3",
   "metadata": {},
   "source": [
    "#### Выводы \n",
    "- Обе модели не могут хорошо применяться в задачах бинарной классификации, где слабо представлен один из классов"
   ]
  },
  {
   "cell_type": "markdown",
   "id": "e1e7289f",
   "metadata": {},
   "source": [
    "# GradientBoostingClassifier"
   ]
  },
  {
   "cell_type": "code",
   "execution_count": 28,
   "id": "42a28e43",
   "metadata": {},
   "outputs": [
    {
     "name": "stdout",
     "output_type": "stream",
     "text": [
      "accuracy_score на обучающей выборки =  0.879646017699115\n",
      "recall_score на обучающей выборки =  0.21553398058252426\n",
      "precision_score на обучающей выборки =  0.9652173913043478\n",
      "roc_auc_score на обучающей выборки =  0.607071338117349\n",
      "confusion_matrix на обучающей выборки = \n",
      " [[2871    4]\n",
      " [ 404  111]]\n",
      "accuracy_score на тестовой выборки =  0.839622641509434\n",
      "recall_score на тестовой выборки =  0.06976744186046512\n",
      "precision_score на тестовой выборки =  0.36\n",
      "roc_auc_score на тестовой выборки =  0.5237571562570753\n",
      "confusion_matrix на тестовой выборки = \n",
      " [[703  16]\n",
      " [120   9]]\n"
     ]
    }
   ],
   "source": [
    "model = GradientBoostingClassifier()\n",
    "model.fit(X_train,y_train)\n",
    "\n",
    "\n",
    "\n",
    "print('accuracy_score на обучающей выборки = ',accuracy_score(y_train,model.predict(X_train)))\n",
    "print('recall_score на обучающей выборки = ',recall_score(y_train,model.predict(X_train)))\n",
    "print('precision_score на обучающей выборки = ',precision_score(y_train,model.predict(X_train)))\n",
    "print('roc_auc_score на обучающей выборки = ',roc_auc_score(y_train,model.predict(X_train)))\n",
    "print('confusion_matrix на обучающей выборки = \\n',confusion_matrix(y_train,model.predict(X_train)))\n",
    "\n",
    "print('accuracy_score на тестовой выборки = ',accuracy_score(y_test,model.predict(X_test)))\n",
    "print('recall_score на тестовой выборки = ',recall_score(y_test,model.predict(X_test)))\n",
    "print('precision_score на тестовой выборки = ',precision_score(y_test,model.predict(X_test)))\n",
    "print('roc_auc_score на тестовой выборки = ',roc_auc_score(y_test,model.predict(X_test)))\n",
    "print('confusion_matrix на тестовой выборки = \\n',confusion_matrix(y_test,model.predict(X_test)))"
   ]
  },
  {
   "cell_type": "code",
   "execution_count": null,
   "id": "aa673817",
   "metadata": {},
   "outputs": [],
   "source": []
  },
  {
   "cell_type": "code",
   "execution_count": null,
   "id": "261976a6",
   "metadata": {},
   "outputs": [],
   "source": []
  }
 ],
 "metadata": {
  "kernelspec": {
   "display_name": "Python 3",
   "language": "python",
   "name": "python3"
  },
  "language_info": {
   "codemirror_mode": {
    "name": "ipython",
    "version": 3
   },
   "file_extension": ".py",
   "mimetype": "text/x-python",
   "name": "python",
   "nbconvert_exporter": "python",
   "pygments_lexer": "ipython3",
   "version": "3.8.8"
  }
 },
 "nbformat": 4,
 "nbformat_minor": 5
}
